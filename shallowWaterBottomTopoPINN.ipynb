{
  "nbformat": 4,
  "nbformat_minor": 0,
  "metadata": {
    "accelerator": "GPU",
    "colab": {
      "name": "shallowWaterBottomTopoPINN.ipynb",
      "provenance": [],
      "collapsed_sections": [],
      "authorship_tag": "ABX9TyNPngm/AJir3nSxTkSvhL43",
      "include_colab_link": true
    },
    "kernelspec": {
      "display_name": "Python 3",
      "name": "python3"
    }
  },
  "cells": [
    {
      "cell_type": "markdown",
      "metadata": {
        "id": "view-in-github",
        "colab_type": "text"
      },
      "source": [
        "<a href=\"https://colab.research.google.com/github/abihlo/pinnSWE/blob/main/shallowWaterBottomTopoPINN.ipynb\" target=\"_parent\"><img src=\"https://colab.research.google.com/assets/colab-badge.svg\" alt=\"Open In Colab\"/></a>"
      ]
    },
    {
      "cell_type": "code",
      "metadata": {
        "id": "3QJy11N3hYin"
      },
      "source": [
        "# !pip install pyDOE"
      ],
      "execution_count": null,
      "outputs": []
    },
    {
      "cell_type": "code",
      "metadata": {
        "id": "Fytv-j1AIppX"
      },
      "source": [
        "import tensorflow as tf\r\n",
        "import numpy as np\r\n",
        "from pyDOE import lhs\r\n",
        "import matplotlib.pyplot as plt "
      ],
      "execution_count": null,
      "outputs": []
    },
    {
      "cell_type": "code",
      "metadata": {
        "id": "jmxl4nkjL4gw"
      },
      "source": [
        "# Initial condition\r\n",
        "u0 = lambda x: 0*x\r\n",
        "b0 = lambda x: 0*(x<0.1) + 2*(x-0.1)*(x>=0.1)\r\n",
        "h0 = lambda x: 1+0.5*np.exp(-40*(x+0.2)**2)\r\n",
        "\r\n",
        "# u0 = lambda x: 0.01*np.sin(np.pi*x+0.5)\r\n",
        "# h0 = lambda x: 0.75 + 0.25*np.sin(np.pi*x)\r\n",
        "\r\n",
        "# Boundaries of the computational domain (here we use extrapolating BCs)\r\n",
        "xleft, xright = -1, 1\r\n",
        "t0, tfinal = 0, 4\r\n",
        "\r\n",
        "# Gravitational constant\r\n",
        "g = tf.constant(1.0, dtype=tf.float32)"
      ],
      "execution_count": null,
      "outputs": []
    },
    {
      "cell_type": "code",
      "metadata": {
        "colab": {
          "base_uri": "https://localhost:8080/",
          "height": 282
        },
        "id": "yaw5kj8-GQs6",
        "outputId": "32eb0616-e56a-4d14-eaa5-9bb44b478134"
      },
      "source": [
        "x = np.linspace(xleft, xright, 100)\r\n",
        "plt.plot(x, h0(x))\r\n",
        "plt.plot(x, b0(x))"
      ],
      "execution_count": null,
      "outputs": [
        {
          "output_type": "execute_result",
          "data": {
            "text/plain": [
              "[<matplotlib.lines.Line2D at 0x7fa036f6f7f0>]"
            ]
          },
          "metadata": {
            "tags": []
          },
          "execution_count": 15
        },
        {
          "output_type": "display_data",
          "data": {
            "image/png": "[encoded data removed]",
            "text/plain": [
              "<Figure size 432x288 with 1 Axes>"
            ]
          },
          "metadata": {
            "tags": [],
            "needs_background": "light"
          }
        }
      ]
    },
    {
      "cell_type": "code",
      "metadata": {
        "colab": {
          "base_uri": "https://localhost:8080/"
        },
        "id": "mFWp_CP5MNkR",
        "outputId": "47b375e7-a317-42c4-e407-e084f53393b9"
      },
      "source": [
        "# Define the network\r\n",
        "inp1 = tf.keras.layers.Input(shape=(1,))\r\n",
        "# b1 = tf.keras.layers.BatchNormalization()(inp1)\r\n",
        "inp2 = tf.keras.layers.Input(shape=(1,))\r\n",
        "# b2 = tf.keras.layers.BatchNormalization()(inp2)\r\n",
        "b = tf.keras.layers.Concatenate()([inp1, inp2])\r\n",
        "b = tf.keras.layers.Dense(100, activation='tanh')(b)\r\n",
        "b = tf.keras.layers.Dense(100, activation='tanh')(b)\r\n",
        "b = tf.keras.layers.Dense(100, activation='tanh')(b)\r\n",
        "b = tf.keras.layers.Dense(100, activation='tanh')(b)\r\n",
        "b = tf.keras.layers.Dense(100, activation='tanh')(b)\r\n",
        "b = tf.keras.layers.Dense(100, activation='tanh')(b)\r\n",
        "\r\n",
        "outu = tf.keras.layers.Dense(1, activation='linear')(b)\r\n",
        "outh = tf.keras.layers.Dense(1, activation='relu')(b)\r\n",
        "outb = tf.keras.layers.Dense(1, activation='relu')(b)\r\n",
        "\r\n",
        "model = tf.keras.models.Model([inp1, inp2], [outu, outh, outb])\r\n",
        "model.summary()"
      ],
      "execution_count": null,
      "outputs": [
        {
          "output_type": "stream",
          "text": [
            "Model: \"model_1\"\n",
            "__________________________________________________________________________________________________\n",
            "Layer (type)                    Output Shape         Param #     Connected to                     \n",
            "==================================================================================================\n",
            "input_3 (InputLayer)            [(None, 1)]          0                                            \n",
            "__________________________________________________________________________________________________\n",
            "input_4 (InputLayer)            [(None, 1)]          0                                            \n",
            "__________________________________________________________________________________________________\n",
            "concatenate_1 (Concatenate)     (None, 2)            0           input_3[0][0]                    \n",
            "                                                                 input_4[0][0]                    \n",
            "__________________________________________________________________________________________________\n",
            "dense_9 (Dense)                 (None, 100)          300         concatenate_1[0][0]              \n",
            "__________________________________________________________________________________________________\n",
            "dense_10 (Dense)                (None, 100)          10100       dense_9[0][0]                    \n",
            "__________________________________________________________________________________________________\n",
            "dense_11 (Dense)                (None, 100)          10100       dense_10[0][0]                   \n",
            "__________________________________________________________________________________________________\n",
            "dense_12 (Dense)                (None, 100)          10100       dense_11[0][0]                   \n",
            "__________________________________________________________________________________________________\n",
            "dense_13 (Dense)                (None, 100)          10100       dense_12[0][0]                   \n",
            "__________________________________________________________________________________________________\n",
            "dense_14 (Dense)                (None, 100)          10100       dense_13[0][0]                   \n",
            "__________________________________________________________________________________________________\n",
            "dense_15 (Dense)                (None, 1)            101         dense_14[0][0]                   \n",
            "__________________________________________________________________________________________________\n",
            "dense_16 (Dense)                (None, 1)            101         dense_14[0][0]                   \n",
            "__________________________________________________________________________________________________\n",
            "dense_17 (Dense)                (None, 1)            101         dense_14[0][0]                   \n",
            "==================================================================================================\n",
            "Total params: 51,103\n",
            "Trainable params: 51,103\n",
            "Non-trainable params: 0\n",
            "__________________________________________________________________________________________________\n"
          ],
          "name": "stdout"
        }
      ]
    },
    {
      "cell_type": "code",
      "metadata": {
        "id": "YCjR0-DZQvnO"
      },
      "source": [
        "def PNNtrain(t_bdry, x_bdry, u0, h0, b0, epochs=20000, N_pde=20000, N_iv=1000, N_bv=1000):\r\n",
        "\r\n",
        "  # Optimizer to be used\r\n",
        "  opt = tf.keras.optimizers.Adam(\r\n",
        "    learning_rate=0.1,\r\n",
        "    beta_1=0.99,\r\n",
        "    epsilon=1e-1)\r\n",
        "\r\n",
        "  # Sample points where to evaluate the PDE\r\n",
        "  tx_min = np.array([t_bdry[0], x_bdry[0]])\r\n",
        "  tx_max = np.array([t_bdry[1], x_bdry[1]])  \r\n",
        "  pde_points = tx_min + (tx_max - tx_min)*lhs(2, N_pde)\r\n",
        "  t_pde = tf.Variable(np.expand_dims(pde_points[:, 0], axis=1)) \r\n",
        "  x_pde = tf.Variable(np.expand_dims(pde_points[:, 1], axis=1))\r\n",
        "\r\n",
        "  # Sample points where to evaluate the initial values\r\n",
        "  x_init = np.expand_dims(np.random.uniform(x_bdry[0], x_bdry[1], size=N_iv), axis=1)\r\n",
        "  t_init = np.expand_dims(0*x_init, axis=1)\r\n",
        "  u_init, h_init, b_init = u0(x_init), h0(x_init), b0(x_init)\r\n",
        "\r\n",
        "  # Sample points where to evaluate the boundary values\r\n",
        "  t_b = np.random.uniform(t_bdry[0], t_bdry[1], size=N_bv)\r\n",
        "  t_b = np.expand_dims(np.concatenate((t_b, t_b)), axis=1)\r\n",
        "  x_b = np.expand_dims(np.concatenate((-1*np.ones(N_bv),\r\n",
        "                           -0.95*np.ones(N_bv))), axis=1)\r\n",
        " \r\n",
        "  # Main training loop\r\n",
        "  for i in range(epochs):\r\n",
        "\r\n",
        "    # Outer gradient for tuning network parameters\r\n",
        "    with tf.GradientTape() as tape:\r\n",
        "\r\n",
        "      # Inner gradient for derivatives of u wrt x and t\r\n",
        "      with tf.GradientTape(persistent=True) as tape2:\r\n",
        "        tape2.watch(t_pde)\r\n",
        "        tape2.watch(x_pde)\r\n",
        "        [u, h, b] = model([t_pde, x_pde])  \r\n",
        "      [dudt, dudx] = tape2.gradient(u, [t_pde, x_pde])\r\n",
        "      [dhdt, dhdx] = tape2.gradient(h, [t_pde, x_pde])\r\n",
        "      [dbdt, dbdx] = tape2.gradient(b, [t_pde, x_pde])\r\n",
        "      \r\n",
        "      # Solve the shallow-water equations\r\n",
        "      dudt, dudx = tf.cast(dudt, tf.float32), tf.cast(dudx, tf.float32)\r\n",
        "      dhdt, dhdx = tf.cast(dhdt, tf.float32), tf.cast(dhdx, tf.float32)\r\n",
        "      dbdt, dbdx = tf.cast(dbdt, tf.float32), tf.cast(dbdx, tf.float32)      \r\n",
        "\r\n",
        "      eqnu = dudt+u*dudx+g*(dhdx-dbdx)\r\n",
        "      eqnh = dhdt+u*dhdx+h*dudx\r\n",
        "      eqnb = dbdt\r\n",
        "\r\n",
        "      # Define the PDE loss  \r\n",
        "      PDEloss = tf.reduce_mean(tf.square(eqnu)) + tf.reduce_mean(tf.square(eqnh)) + tf.reduce_mean(tf.square(eqnb)) \r\n",
        "\r\n",
        "      # Define the initial and boundary value losses\r\n",
        "      [u_init_pred, h_init_pred, b_init_pred] = model([t_init, x_init])      \r\n",
        "      IVloss = tf.reduce_mean(tf.square(u_init-u_init_pred)) + tf.reduce_mean(tf.square(h_init-h_init_pred)) + tf.reduce_mean(tf.square(b_init-b_init_pred)) \r\n",
        "                              \r\n",
        "      [u_b, h_b, b_b] = model([t_b, x_b])\r\n",
        "      BVloss = tf.reduce_mean(tf.square(u_b[:N_bv]-u_b[N_bv:])) + tf.reduce_mean(tf.square(h_b[:N_bv]-h_b[N_bv:]))\r\n",
        "\r\n",
        "      # Global loss\r\n",
        "      loss = PDEloss + IVloss + BVloss\r\n",
        "\r\n",
        "    # Compute the gradient of the global loss wrt the model parameters\r\n",
        "    grads = tape.gradient(loss, model.trainable_variables)\r\n",
        "\r\n",
        "    # Gradient step\r\n",
        "    opt.apply_gradients(zip(grads, model.trainable_variables))\r\n",
        "\r\n",
        "    if (np.mod(i, 100)==0):\r\n",
        "      print(\"Total loss, PDE loss, IV loss, BV loss in {}th epoch: {: 6.4f}, {: 6.4f}, {: 6.4f}, {: 6.4f}.\".format(i, loss.numpy(), PDEloss.numpy(),\r\n",
        "                                                                              IVloss.numpy(), BVloss.numpy()))"
      ],
      "execution_count": null,
      "outputs": []
    },
    {
      "cell_type": "code",
      "metadata": {
        "colab": {
          "base_uri": "https://localhost:8080/"
        },
        "id": "N6nhZ_OVpaYF",
        "outputId": "cd140ce6-3d40-46d5-f06b-4432a6f7a61b"
      },
      "source": [
        "PNNtrain([t0, tfinal], [xleft, xright], u0, h0, b0)"
      ],
      "execution_count": null,
      "outputs": [
        {
          "output_type": "stream",
          "text": [
            "Total loss, PDE loss, IV loss, BV loss in 0th epoch:  1.4688,  0.0118,  1.4570,  0.0001.\n",
            "Total loss, PDE loss, IV loss, BV loss in 100th epoch:  0.1431,  0.0622,  0.0809,  0.0000.\n",
            "Total loss, PDE loss, IV loss, BV loss in 200th epoch:  0.0899,  0.0398,  0.0501,  0.0001.\n",
            "Total loss, PDE loss, IV loss, BV loss in 300th epoch:  0.0663,  0.0375,  0.0286,  0.0002.\n",
            "Total loss, PDE loss, IV loss, BV loss in 400th epoch:  0.0373,  0.0166,  0.0203,  0.0004.\n",
            "Total loss, PDE loss, IV loss, BV loss in 500th epoch:  0.0344,  0.0143,  0.0197,  0.0003.\n",
            "Total loss, PDE loss, IV loss, BV loss in 600th epoch:  0.0440,  0.0209,  0.0226,  0.0005.\n",
            "Total loss, PDE loss, IV loss, BV loss in 700th epoch:  0.0465,  0.0207,  0.0255,  0.0003.\n",
            "Total loss, PDE loss, IV loss, BV loss in 800th epoch:  0.0358,  0.0164,  0.0191,  0.0003.\n",
            "Total loss, PDE loss, IV loss, BV loss in 900th epoch:  0.0452,  0.0233,  0.0217,  0.0002.\n",
            "Total loss, PDE loss, IV loss, BV loss in 1000th epoch:  0.0243,  0.0134,  0.0106,  0.0003.\n",
            "Total loss, PDE loss, IV loss, BV loss in 1100th epoch:  0.0230,  0.0103,  0.0124,  0.0003.\n",
            "Total loss, PDE loss, IV loss, BV loss in 1200th epoch:  0.0219,  0.0131,  0.0085,  0.0002.\n",
            "Total loss, PDE loss, IV loss, BV loss in 1300th epoch:  0.0189,  0.0092,  0.0095,  0.0002.\n",
            "Total loss, PDE loss, IV loss, BV loss in 1400th epoch:  0.0330,  0.0192,  0.0136,  0.0002.\n",
            "Total loss, PDE loss, IV loss, BV loss in 1500th epoch:  0.0613,  0.0429,  0.0180,  0.0003.\n",
            "Total loss, PDE loss, IV loss, BV loss in 1600th epoch:  0.0320,  0.0175,  0.0140,  0.0005.\n",
            "Total loss, PDE loss, IV loss, BV loss in 1700th epoch:  0.0182,  0.0104,  0.0076,  0.0003.\n",
            "Total loss, PDE loss, IV loss, BV loss in 1800th epoch:  0.0146,  0.0091,  0.0052,  0.0003.\n",
            "Total loss, PDE loss, IV loss, BV loss in 1900th epoch:  0.0199,  0.0117,  0.0080,  0.0002.\n",
            "Total loss, PDE loss, IV loss, BV loss in 2000th epoch:  0.0473,  0.0283,  0.0187,  0.0003.\n",
            "Total loss, PDE loss, IV loss, BV loss in 2100th epoch:  0.0271,  0.0188,  0.0080,  0.0003.\n",
            "Total loss, PDE loss, IV loss, BV loss in 2200th epoch:  0.0207,  0.0112,  0.0091,  0.0003.\n",
            "Total loss, PDE loss, IV loss, BV loss in 2300th epoch:  0.0127,  0.0077,  0.0047,  0.0003.\n",
            "Total loss, PDE loss, IV loss, BV loss in 2400th epoch:  0.0271,  0.0155,  0.0114,  0.0002.\n",
            "Total loss, PDE loss, IV loss, BV loss in 2500th epoch:  0.0216,  0.0154,  0.0059,  0.0003.\n",
            "Total loss, PDE loss, IV loss, BV loss in 2600th epoch:  0.0557,  0.0264,  0.0292,  0.0002.\n",
            "Total loss, PDE loss, IV loss, BV loss in 2700th epoch:  0.0426,  0.0237,  0.0187,  0.0002.\n",
            "Total loss, PDE loss, IV loss, BV loss in 2800th epoch:  0.0181,  0.0115,  0.0062,  0.0004.\n",
            "Total loss, PDE loss, IV loss, BV loss in 2900th epoch:  0.0311,  0.0225,  0.0082,  0.0004.\n",
            "Total loss, PDE loss, IV loss, BV loss in 3000th epoch:  0.0220,  0.0128,  0.0089,  0.0003.\n",
            "Total loss, PDE loss, IV loss, BV loss in 3100th epoch:  0.0115,  0.0063,  0.0048,  0.0004.\n",
            "Total loss, PDE loss, IV loss, BV loss in 3200th epoch:  0.0099,  0.0049,  0.0047,  0.0003.\n",
            "Total loss, PDE loss, IV loss, BV loss in 3300th epoch:  0.0093,  0.0065,  0.0026,  0.0003.\n",
            "Total loss, PDE loss, IV loss, BV loss in 3400th epoch:  0.0091,  0.0052,  0.0035,  0.0003.\n",
            "Total loss, PDE loss, IV loss, BV loss in 3500th epoch:  0.0114,  0.0083,  0.0029,  0.0003.\n",
            "Total loss, PDE loss, IV loss, BV loss in 3600th epoch:  0.0061,  0.0035,  0.0022,  0.0004.\n",
            "Total loss, PDE loss, IV loss, BV loss in 3700th epoch:  0.0053,  0.0029,  0.0020,  0.0004.\n",
            "Total loss, PDE loss, IV loss, BV loss in 3800th epoch:  0.0044,  0.0024,  0.0016,  0.0003.\n",
            "Total loss, PDE loss, IV loss, BV loss in 3900th epoch:  0.0037,  0.0019,  0.0014,  0.0003.\n",
            "Total loss, PDE loss, IV loss, BV loss in 4000th epoch:  0.0032,  0.0017,  0.0012,  0.0003.\n",
            "Total loss, PDE loss, IV loss, BV loss in 4100th epoch:  0.0027,  0.0015,  0.0009,  0.0003.\n",
            "Total loss, PDE loss, IV loss, BV loss in 4200th epoch:  0.0023,  0.0011,  0.0008,  0.0003.\n",
            "Total loss, PDE loss, IV loss, BV loss in 4300th epoch:  0.0021,  0.0011,  0.0006,  0.0004.\n",
            "Total loss, PDE loss, IV loss, BV loss in 4400th epoch:  0.0019,  0.0010,  0.0005,  0.0004.\n",
            "Total loss, PDE loss, IV loss, BV loss in 4500th epoch:  0.0018,  0.0010,  0.0004,  0.0004.\n",
            "Total loss, PDE loss, IV loss, BV loss in 4600th epoch:  0.0017,  0.0010,  0.0004,  0.0004.\n",
            "Total loss, PDE loss, IV loss, BV loss in 4700th epoch:  0.0018,  0.0011,  0.0004,  0.0004.\n",
            "Total loss, PDE loss, IV loss, BV loss in 4800th epoch:  0.0024,  0.0015,  0.0006,  0.0003.\n",
            "Total loss, PDE loss, IV loss, BV loss in 4900th epoch:  0.0023,  0.0013,  0.0006,  0.0004.\n",
            "Total loss, PDE loss, IV loss, BV loss in 5000th epoch:  0.0023,  0.0015,  0.0004,  0.0004.\n",
            "Total loss, PDE loss, IV loss, BV loss in 5100th epoch:  0.0022,  0.0014,  0.0004,  0.0004.\n",
            "Total loss, PDE loss, IV loss, BV loss in 5200th epoch:  0.0057,  0.0041,  0.0012,  0.0003.\n",
            "Total loss, PDE loss, IV loss, BV loss in 5300th epoch:  0.0024,  0.0015,  0.0006,  0.0004.\n",
            "Total loss, PDE loss, IV loss, BV loss in 5400th epoch:  0.0018,  0.0011,  0.0004,  0.0004.\n",
            "Total loss, PDE loss, IV loss, BV loss in 5500th epoch:  0.0015,  0.0008,  0.0003,  0.0004.\n",
            "Total loss, PDE loss, IV loss, BV loss in 5600th epoch:  0.0014,  0.0007,  0.0003,  0.0004.\n",
            "Total loss, PDE loss, IV loss, BV loss in 5700th epoch:  0.0015,  0.0008,  0.0003,  0.0004.\n",
            "Total loss, PDE loss, IV loss, BV loss in 5800th epoch:  0.0012,  0.0006,  0.0002,  0.0004.\n",
            "Total loss, PDE loss, IV loss, BV loss in 5900th epoch:  0.0013,  0.0007,  0.0002,  0.0004.\n",
            "Total loss, PDE loss, IV loss, BV loss in 6000th epoch:  0.0013,  0.0007,  0.0002,  0.0004.\n",
            "Total loss, PDE loss, IV loss, BV loss in 6100th epoch:  0.0012,  0.0006,  0.0002,  0.0004.\n",
            "Total loss, PDE loss, IV loss, BV loss in 6200th epoch:  0.0012,  0.0005,  0.0002,  0.0004.\n",
            "Total loss, PDE loss, IV loss, BV loss in 6300th epoch:  0.0011,  0.0005,  0.0002,  0.0004.\n",
            "Total loss, PDE loss, IV loss, BV loss in 6400th epoch:  0.0011,  0.0005,  0.0002,  0.0004.\n",
            "Total loss, PDE loss, IV loss, BV loss in 6500th epoch:  0.0011,  0.0005,  0.0002,  0.0004.\n",
            "Total loss, PDE loss, IV loss, BV loss in 6600th epoch:  0.0013,  0.0007,  0.0002,  0.0004.\n",
            "Total loss, PDE loss, IV loss, BV loss in 6700th epoch:  0.0012,  0.0006,  0.0002,  0.0004.\n",
            "Total loss, PDE loss, IV loss, BV loss in 6800th epoch:  0.0011,  0.0005,  0.0002,  0.0004.\n",
            "Total loss, PDE loss, IV loss, BV loss in 6900th epoch:  0.0011,  0.0005,  0.0002,  0.0004.\n",
            "Total loss, PDE loss, IV loss, BV loss in 7000th epoch:  0.0011,  0.0005,  0.0002,  0.0004.\n",
            "Total loss, PDE loss, IV loss, BV loss in 7100th epoch:  0.0012,  0.0006,  0.0002,  0.0004.\n",
            "Total loss, PDE loss, IV loss, BV loss in 7200th epoch:  0.0010,  0.0004,  0.0002,  0.0004.\n",
            "Total loss, PDE loss, IV loss, BV loss in 7300th epoch:  0.0017,  0.0011,  0.0002,  0.0004.\n",
            "Total loss, PDE loss, IV loss, BV loss in 7400th epoch:  0.0011,  0.0005,  0.0002,  0.0004.\n",
            "Total loss, PDE loss, IV loss, BV loss in 7500th epoch:  0.0010,  0.0005,  0.0002,  0.0004.\n",
            "Total loss, PDE loss, IV loss, BV loss in 7600th epoch:  0.0010,  0.0004,  0.0002,  0.0004.\n",
            "Total loss, PDE loss, IV loss, BV loss in 7700th epoch:  0.0011,  0.0005,  0.0002,  0.0004.\n",
            "Total loss, PDE loss, IV loss, BV loss in 7800th epoch:  0.0011,  0.0005,  0.0002,  0.0004.\n",
            "Total loss, PDE loss, IV loss, BV loss in 7900th epoch:  0.0012,  0.0006,  0.0002,  0.0004.\n",
            "Total loss, PDE loss, IV loss, BV loss in 8000th epoch:  0.0011,  0.0004,  0.0002,  0.0004.\n",
            "Total loss, PDE loss, IV loss, BV loss in 8100th epoch:  0.0013,  0.0007,  0.0002,  0.0004.\n",
            "Total loss, PDE loss, IV loss, BV loss in 8200th epoch:  0.0011,  0.0005,  0.0002,  0.0004.\n",
            "Total loss, PDE loss, IV loss, BV loss in 8300th epoch:  0.0010,  0.0004,  0.0002,  0.0004.\n",
            "Total loss, PDE loss, IV loss, BV loss in 8400th epoch:  0.0011,  0.0005,  0.0002,  0.0004.\n",
            "Total loss, PDE loss, IV loss, BV loss in 8500th epoch:  0.0010,  0.0004,  0.0002,  0.0004.\n",
            "Total loss, PDE loss, IV loss, BV loss in 8600th epoch:  0.0010,  0.0004,  0.0002,  0.0004.\n",
            "Total loss, PDE loss, IV loss, BV loss in 8700th epoch:  0.0010,  0.0004,  0.0001,  0.0004.\n",
            "Total loss, PDE loss, IV loss, BV loss in 8800th epoch:  0.0009,  0.0004,  0.0002,  0.0004.\n",
            "Total loss, PDE loss, IV loss, BV loss in 8900th epoch:  0.0009,  0.0003,  0.0002,  0.0004.\n",
            "Total loss, PDE loss, IV loss, BV loss in 9000th epoch:  0.0010,  0.0004,  0.0001,  0.0004.\n",
            "Total loss, PDE loss, IV loss, BV loss in 9100th epoch:  0.0009,  0.0004,  0.0001,  0.0004.\n",
            "Total loss, PDE loss, IV loss, BV loss in 9200th epoch:  0.0009,  0.0004,  0.0001,  0.0004.\n",
            "Total loss, PDE loss, IV loss, BV loss in 9300th epoch:  0.0009,  0.0003,  0.0002,  0.0004.\n",
            "Total loss, PDE loss, IV loss, BV loss in 9400th epoch:  0.0010,  0.0004,  0.0002,  0.0004.\n",
            "Total loss, PDE loss, IV loss, BV loss in 9500th epoch:  0.0009,  0.0004,  0.0001,  0.0004.\n",
            "Total loss, PDE loss, IV loss, BV loss in 9600th epoch:  0.0009,  0.0004,  0.0001,  0.0004.\n",
            "Total loss, PDE loss, IV loss, BV loss in 9700th epoch:  0.0009,  0.0004,  0.0002,  0.0004.\n",
            "Total loss, PDE loss, IV loss, BV loss in 9800th epoch:  0.0009,  0.0004,  0.0001,  0.0004.\n",
            "Total loss, PDE loss, IV loss, BV loss in 9900th epoch:  0.0009,  0.0003,  0.0001,  0.0004.\n",
            "Total loss, PDE loss, IV loss, BV loss in 10000th epoch:  0.0010,  0.0004,  0.0001,  0.0004.\n",
            "Total loss, PDE loss, IV loss, BV loss in 10100th epoch:  0.0009,  0.0004,  0.0002,  0.0004.\n",
            "Total loss, PDE loss, IV loss, BV loss in 10200th epoch:  0.0011,  0.0006,  0.0001,  0.0004.\n",
            "Total loss, PDE loss, IV loss, BV loss in 10300th epoch:  0.0009,  0.0004,  0.0001,  0.0004.\n",
            "Total loss, PDE loss, IV loss, BV loss in 10400th epoch:  0.0009,  0.0003,  0.0001,  0.0004.\n",
            "Total loss, PDE loss, IV loss, BV loss in 10500th epoch:  0.0010,  0.0004,  0.0002,  0.0004.\n",
            "Total loss, PDE loss, IV loss, BV loss in 10600th epoch:  0.0009,  0.0003,  0.0001,  0.0004.\n",
            "Total loss, PDE loss, IV loss, BV loss in 10700th epoch:  0.0009,  0.0004,  0.0001,  0.0004.\n",
            "Total loss, PDE loss, IV loss, BV loss in 10800th epoch:  0.0009,  0.0003,  0.0001,  0.0004.\n",
            "Total loss, PDE loss, IV loss, BV loss in 10900th epoch:  0.0009,  0.0003,  0.0001,  0.0004.\n",
            "Total loss, PDE loss, IV loss, BV loss in 11000th epoch:  0.0009,  0.0003,  0.0001,  0.0004.\n",
            "Total loss, PDE loss, IV loss, BV loss in 11100th epoch:  0.0009,  0.0004,  0.0001,  0.0004.\n",
            "Total loss, PDE loss, IV loss, BV loss in 11200th epoch:  0.0009,  0.0003,  0.0001,  0.0004.\n",
            "Total loss, PDE loss, IV loss, BV loss in 11300th epoch:  0.0010,  0.0004,  0.0001,  0.0004.\n",
            "Total loss, PDE loss, IV loss, BV loss in 11400th epoch:  0.0009,  0.0003,  0.0001,  0.0004.\n",
            "Total loss, PDE loss, IV loss, BV loss in 11500th epoch:  0.0009,  0.0004,  0.0001,  0.0004.\n",
            "Total loss, PDE loss, IV loss, BV loss in 11600th epoch:  0.0009,  0.0003,  0.0001,  0.0004.\n",
            "Total loss, PDE loss, IV loss, BV loss in 11700th epoch:  0.0009,  0.0004,  0.0001,  0.0004.\n",
            "Total loss, PDE loss, IV loss, BV loss in 11800th epoch:  0.0009,  0.0003,  0.0001,  0.0004.\n",
            "Total loss, PDE loss, IV loss, BV loss in 11900th epoch:  0.0009,  0.0004,  0.0001,  0.0004.\n",
            "Total loss, PDE loss, IV loss, BV loss in 12000th epoch:  0.0009,  0.0003,  0.0001,  0.0004.\n",
            "Total loss, PDE loss, IV loss, BV loss in 12100th epoch:  0.0009,  0.0003,  0.0001,  0.0004.\n",
            "Total loss, PDE loss, IV loss, BV loss in 12200th epoch:  0.0008,  0.0003,  0.0001,  0.0004.\n",
            "Total loss, PDE loss, IV loss, BV loss in 12300th epoch:  0.0009,  0.0003,  0.0001,  0.0004.\n",
            "Total loss, PDE loss, IV loss, BV loss in 12400th epoch:  0.0008,  0.0003,  0.0001,  0.0004.\n",
            "Total loss, PDE loss, IV loss, BV loss in 12500th epoch:  0.0009,  0.0003,  0.0001,  0.0004.\n",
            "Total loss, PDE loss, IV loss, BV loss in 12600th epoch:  0.0009,  0.0003,  0.0001,  0.0004.\n",
            "Total loss, PDE loss, IV loss, BV loss in 12700th epoch:  0.0008,  0.0003,  0.0001,  0.0004.\n",
            "Total loss, PDE loss, IV loss, BV loss in 12800th epoch:  0.0009,  0.0003,  0.0001,  0.0004.\n",
            "Total loss, PDE loss, IV loss, BV loss in 12900th epoch:  0.0009,  0.0003,  0.0001,  0.0004.\n",
            "Total loss, PDE loss, IV loss, BV loss in 13000th epoch:  0.0009,  0.0003,  0.0001,  0.0004.\n",
            "Total loss, PDE loss, IV loss, BV loss in 13100th epoch:  0.0008,  0.0003,  0.0001,  0.0004.\n",
            "Total loss, PDE loss, IV loss, BV loss in 13200th epoch:  0.0008,  0.0003,  0.0001,  0.0004.\n",
            "Total loss, PDE loss, IV loss, BV loss in 13300th epoch:  0.0008,  0.0003,  0.0001,  0.0004.\n",
            "Total loss, PDE loss, IV loss, BV loss in 13400th epoch:  0.0008,  0.0003,  0.0001,  0.0004.\n",
            "Total loss, PDE loss, IV loss, BV loss in 13500th epoch:  0.0008,  0.0003,  0.0001,  0.0004.\n",
            "Total loss, PDE loss, IV loss, BV loss in 13600th epoch:  0.0008,  0.0003,  0.0001,  0.0004.\n",
            "Total loss, PDE loss, IV loss, BV loss in 13700th epoch:  0.0008,  0.0003,  0.0001,  0.0004.\n",
            "Total loss, PDE loss, IV loss, BV loss in 13800th epoch:  0.0008,  0.0003,  0.0001,  0.0004.\n",
            "Total loss, PDE loss, IV loss, BV loss in 13900th epoch:  0.0008,  0.0003,  0.0001,  0.0004.\n",
            "Total loss, PDE loss, IV loss, BV loss in 14000th epoch:  0.0009,  0.0004,  0.0001,  0.0004.\n",
            "Total loss, PDE loss, IV loss, BV loss in 14100th epoch:  0.0009,  0.0004,  0.0001,  0.0004.\n",
            "Total loss, PDE loss, IV loss, BV loss in 14200th epoch:  0.0008,  0.0003,  0.0001,  0.0004.\n",
            "Total loss, PDE loss, IV loss, BV loss in 14300th epoch:  0.0009,  0.0004,  0.0001,  0.0004.\n",
            "Total loss, PDE loss, IV loss, BV loss in 14400th epoch:  0.0008,  0.0003,  0.0001,  0.0004.\n",
            "Total loss, PDE loss, IV loss, BV loss in 14500th epoch:  0.0008,  0.0003,  0.0001,  0.0004.\n",
            "Total loss, PDE loss, IV loss, BV loss in 14600th epoch:  0.0008,  0.0003,  0.0001,  0.0004.\n",
            "Total loss, PDE loss, IV loss, BV loss in 14700th epoch:  0.0008,  0.0003,  0.0001,  0.0004.\n",
            "Total loss, PDE loss, IV loss, BV loss in 14800th epoch:  0.0008,  0.0003,  0.0001,  0.0004.\n",
            "Total loss, PDE loss, IV loss, BV loss in 14900th epoch:  0.0008,  0.0003,  0.0001,  0.0004.\n",
            "Total loss, PDE loss, IV loss, BV loss in 15000th epoch:  0.0008,  0.0003,  0.0001,  0.0004.\n",
            "Total loss, PDE loss, IV loss, BV loss in 15100th epoch:  0.0008,  0.0003,  0.0001,  0.0004.\n",
            "Total loss, PDE loss, IV loss, BV loss in 15200th epoch:  0.0008,  0.0003,  0.0001,  0.0004.\n",
            "Total loss, PDE loss, IV loss, BV loss in 15300th epoch:  0.0009,  0.0004,  0.0001,  0.0004.\n",
            "Total loss, PDE loss, IV loss, BV loss in 15400th epoch:  0.0008,  0.0003,  0.0001,  0.0004.\n",
            "Total loss, PDE loss, IV loss, BV loss in 15500th epoch:  0.0008,  0.0003,  0.0001,  0.0004.\n",
            "Total loss, PDE loss, IV loss, BV loss in 15600th epoch:  0.0008,  0.0003,  0.0001,  0.0004.\n",
            "Total loss, PDE loss, IV loss, BV loss in 15700th epoch:  0.0008,  0.0003,  0.0001,  0.0004.\n",
            "Total loss, PDE loss, IV loss, BV loss in 15800th epoch:  0.0009,  0.0004,  0.0001,  0.0004.\n",
            "Total loss, PDE loss, IV loss, BV loss in 15900th epoch:  0.0010,  0.0004,  0.0001,  0.0004.\n",
            "Total loss, PDE loss, IV loss, BV loss in 16000th epoch:  0.0009,  0.0004,  0.0001,  0.0004.\n",
            "Total loss, PDE loss, IV loss, BV loss in 16100th epoch:  0.0008,  0.0003,  0.0001,  0.0004.\n",
            "Total loss, PDE loss, IV loss, BV loss in 16200th epoch:  0.0009,  0.0004,  0.0001,  0.0004.\n",
            "Total loss, PDE loss, IV loss, BV loss in 16300th epoch:  0.0009,  0.0004,  0.0001,  0.0004.\n",
            "Total loss, PDE loss, IV loss, BV loss in 16400th epoch:  0.0010,  0.0004,  0.0001,  0.0004.\n",
            "Total loss, PDE loss, IV loss, BV loss in 16500th epoch:  0.0008,  0.0003,  0.0001,  0.0004.\n",
            "Total loss, PDE loss, IV loss, BV loss in 16600th epoch:  0.0008,  0.0003,  0.0001,  0.0004.\n",
            "Total loss, PDE loss, IV loss, BV loss in 16700th epoch:  0.0008,  0.0002,  0.0001,  0.0004.\n",
            "Total loss, PDE loss, IV loss, BV loss in 16800th epoch:  0.0008,  0.0002,  0.0001,  0.0004.\n",
            "Total loss, PDE loss, IV loss, BV loss in 16900th epoch:  0.0008,  0.0003,  0.0001,  0.0004.\n",
            "Total loss, PDE loss, IV loss, BV loss in 17000th epoch:  0.0008,  0.0003,  0.0001,  0.0004.\n",
            "Total loss, PDE loss, IV loss, BV loss in 17100th epoch:  0.0008,  0.0003,  0.0001,  0.0004.\n",
            "Total loss, PDE loss, IV loss, BV loss in 17200th epoch:  0.0009,  0.0004,  0.0001,  0.0004.\n",
            "Total loss, PDE loss, IV loss, BV loss in 17300th epoch:  0.0008,  0.0003,  0.0001,  0.0004.\n",
            "Total loss, PDE loss, IV loss, BV loss in 17400th epoch:  0.0008,  0.0003,  0.0001,  0.0004.\n",
            "Total loss, PDE loss, IV loss, BV loss in 17500th epoch:  0.0008,  0.0003,  0.0001,  0.0004.\n",
            "Total loss, PDE loss, IV loss, BV loss in 17600th epoch:  0.0009,  0.0004,  0.0001,  0.0004.\n",
            "Total loss, PDE loss, IV loss, BV loss in 17700th epoch:  0.0011,  0.0006,  0.0001,  0.0004.\n",
            "Total loss, PDE loss, IV loss, BV loss in 17800th epoch:  0.0009,  0.0004,  0.0001,  0.0004.\n",
            "Total loss, PDE loss, IV loss, BV loss in 17900th epoch:  0.0013,  0.0007,  0.0002,  0.0004.\n",
            "Total loss, PDE loss, IV loss, BV loss in 18000th epoch:  0.0011,  0.0006,  0.0002,  0.0004.\n",
            "Total loss, PDE loss, IV loss, BV loss in 18100th epoch:  0.0016,  0.0009,  0.0003,  0.0004.\n",
            "Total loss, PDE loss, IV loss, BV loss in 18200th epoch:  0.0011,  0.0005,  0.0002,  0.0004.\n",
            "Total loss, PDE loss, IV loss, BV loss in 18300th epoch:  0.0016,  0.0009,  0.0003,  0.0004.\n",
            "Total loss, PDE loss, IV loss, BV loss in 18400th epoch:  0.0020,  0.0012,  0.0004,  0.0004.\n",
            "Total loss, PDE loss, IV loss, BV loss in 18500th epoch:  0.0013,  0.0006,  0.0002,  0.0004.\n",
            "Total loss, PDE loss, IV loss, BV loss in 18600th epoch:  0.0015,  0.0009,  0.0002,  0.0004.\n",
            "Total loss, PDE loss, IV loss, BV loss in 18700th epoch:  0.0015,  0.0009,  0.0003,  0.0004.\n",
            "Total loss, PDE loss, IV loss, BV loss in 18800th epoch:  0.0012,  0.0006,  0.0001,  0.0004.\n",
            "Total loss, PDE loss, IV loss, BV loss in 18900th epoch:  0.0010,  0.0004,  0.0001,  0.0004.\n",
            "Total loss, PDE loss, IV loss, BV loss in 19000th epoch:  0.0009,  0.0003,  0.0001,  0.0004.\n",
            "Total loss, PDE loss, IV loss, BV loss in 19100th epoch:  0.0008,  0.0003,  0.0001,  0.0004.\n",
            "Total loss, PDE loss, IV loss, BV loss in 19200th epoch:  0.0008,  0.0003,  0.0001,  0.0004.\n",
            "Total loss, PDE loss, IV loss, BV loss in 19300th epoch:  0.0008,  0.0002,  0.0001,  0.0004.\n",
            "Total loss, PDE loss, IV loss, BV loss in 19400th epoch:  0.0008,  0.0002,  0.0001,  0.0004.\n",
            "Total loss, PDE loss, IV loss, BV loss in 19500th epoch:  0.0008,  0.0002,  0.0001,  0.0004.\n",
            "Total loss, PDE loss, IV loss, BV loss in 19600th epoch:  0.0007,  0.0002,  0.0001,  0.0004.\n",
            "Total loss, PDE loss, IV loss, BV loss in 19700th epoch:  0.0008,  0.0003,  0.0001,  0.0004.\n",
            "Total loss, PDE loss, IV loss, BV loss in 19800th epoch:  0.0007,  0.0002,  0.0001,  0.0004.\n",
            "Total loss, PDE loss, IV loss, BV loss in 19900th epoch:  0.0007,  0.0002,  0.0001,  0.0004.\n"
          ],
          "name": "stdout"
        }
      ]
    },
    {
      "cell_type": "code",
      "metadata": {
        "id": "wqonpX92uh23"
      },
      "source": [
        "# Grid where to evaluate the model\r\n",
        "m, n = 500, 500\r\n",
        "t = np.linspace(t0, tfinal, m)\r\n",
        "x = np.linspace(xleft, xright, n)\r\n",
        "T, X = np.meshgrid(t, x)\r\n",
        "\r\n",
        "dt = t[1]-t[0]\r\n",
        "\r\n",
        "[u, h, b] = model([np.expand_dims(T.flatten(), axis=1), \r\n",
        "           np.expand_dims(X.flatten(), axis=1)])\r\n",
        "u, h, b = np.reshape(u, (m, n)), np.reshape(h, (m, n)), np.reshape(b, (m, n))"
      ],
      "execution_count": null,
      "outputs": []
    },
    {
      "cell_type": "code",
      "metadata": {
        "colab": {
          "base_uri": "https://localhost:8080/",
          "height": 300
        },
        "id": "f1fHbkzGwBDk",
        "outputId": "4e74c841-8f4a-4b83-89b1-a64bbf2e1e5e"
      },
      "source": [
        "plt.contourf(X, T, h, 100, cmap=plt.cm.coolwarm)\r\n",
        "plt.xlabel('x')\r\n",
        "plt.ylabel('t')\r\n",
        "plt.colorbar()"
      ],
      "execution_count": null,
      "outputs": [
        {
          "output_type": "execute_result",
          "data": {
            "text/plain": [
              "<matplotlib.colorbar.Colorbar at 0x7fa036554d30>"
            ]
          },
          "metadata": {
            "tags": []
          },
          "execution_count": 20
        },
        {
          "output_type": "display_data",
          "data": {
            "image/png": "[encoded data removed]",
            "text/plain": [
              "<Figure size 432x288 with 2 Axes>"
            ]
          },
          "metadata": {
            "tags": [],
            "needs_background": "light"
          }
        }
      ]
    },
    {
      "cell_type": "code",
      "metadata": {
        "colab": {
          "base_uri": "https://localhost:8080/",
          "height": 295
        },
        "id": "fjO7OH4GC3xt",
        "outputId": "819cc18e-fd9b-444b-cd00-440e4567eed3"
      },
      "source": [
        "plot_steps = [50, 100, 150, 200, 250]\r\n",
        "for i in plot_steps:\r\n",
        "  plt.plot(x, h[:,i],'k')\r\n",
        "  plt.plot(x, b[:,i],'r')\r\n",
        "plt.title('Solution at time step {}'.format(plot_steps))\r\n",
        "plt.xlabel('x')\r\n",
        "plt.ylabel('h')\r\n",
        "plt.grid()"
      ],
      "execution_count": null,
      "outputs": [
        {
          "output_type": "display_data",
          "data": {
            "image/png": "[encoded data removed]",
            "text/plain": [
              "<Figure size 432x288 with 1 Axes>"
            ]
          },
          "metadata": {
            "tags": [],
            "needs_background": "light"
          }
        }
      ]
    }
  ]
}